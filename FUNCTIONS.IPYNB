{
 "cells": [
  {
   "cell_type": "code",
   "execution_count": null,
   "id": "42bc608c",
   "metadata": {},
   "outputs": [
    {
     "name": "stdout",
     "output_type": "stream",
     "text": [
      "12\n"
     ]
    }
   ],
   "source": [
    "# Q.1. What is the difference between a function and a method in Python?\n",
    "\n",
    "# ANS- Function vs Method\n",
    "\n",
    "# - A *function* in Python is a block of code that performs a specific task and is not tied to any object. It is defined using the def keyword and can be called independently.\n",
    "\n",
    "# - A *method* is a function associated with an object and is called on that object. Methods are defined within a class and take self as the first parameter.\n",
    "\n",
    "# *Example:\n",
    "\n",
    "# Function\n",
    "\n",
    "def add_numbers(a, b):\n",
    "    return a + b\n",
    "result = add_numbers(5, 7)\n",
    "print(result)       #function "
   ]
  },
  {
   "cell_type": "code",
   "execution_count": 12,
   "id": "c95e0ec6",
   "metadata": {},
   "outputs": [
    {
     "name": "stdout",
     "output_type": "stream",
     "text": [
      "9\n"
     ]
    }
   ],
   "source": [
    "# Method\n",
    "\n",
    "class Calculator:\n",
    "    def add(self, x, y):\n",
    "        return x + y\n",
    "\n",
    "calc = Calculator()\n",
    "result_method = calc.add(2, 7)     # Method\n",
    "print(result_method)"
   ]
  },
  {
   "cell_type": "code",
   "execution_count": null,
   "id": "b15091ba",
   "metadata": {},
   "outputs": [
    {
     "name": "stdout",
     "output_type": "stream",
     "text": [
      "Hello, Ankit\n"
     ]
    }
   ],
   "source": [
    "# Q2. Explain the concept of function arguments and parameters in Python?\n",
    "\n",
    "# ANS - Function Arguments and Parameters\n",
    "\n",
    "# - *Parameters* are variables listed in a function's definition.\n",
    "\n",
    "# - *Arguments* are actual values passed to the function when calling it.\n",
    "\n",
    "# *Example:\n",
    "\n",
    "def greet(name):          # 'name' is a parameter\n",
    "    print(f\"Hello, {name}\")\n",
    "\n",
    "greet('Ankit')            # 'ankit' is an argument\n"
   ]
  },
  {
   "cell_type": "code",
   "execution_count": null,
   "id": "dd400d9e",
   "metadata": {},
   "outputs": [
    {
     "name": "stdout",
     "output_type": "stream",
     "text": [
      "25\n"
     ]
    }
   ],
   "source": [
    "# Q3. What are the different ways to define and call a function in Python?\n",
    "\n",
    "\n",
    "#ANS- Defining and Calling Functions\n",
    "\n",
    "# - Definition: Use def keyword or lambda for anonymous function. \n",
    "\n",
    "# - Calling: Use function name with parentheses, passing arguments if required.\n",
    "\n",
    "# - Ways: Regular def, lambda, within a class, recursion, etc.\n",
    "\n",
    "# Example:\n",
    "\n",
    "def square(x):\n",
    "    return x * x\n",
    "\n",
    "result = square(5)   # Standard call\n",
    "\n",
    "my_lambda = lambda x: x * x\n",
    "result2 = my_lambda(5)\n",
    "print(result)\n"
   ]
  },
  {
   "cell_type": "code",
   "execution_count": null,
   "id": "78f01f1f",
   "metadata": {},
   "outputs": [
    {
     "name": "stdout",
     "output_type": "stream",
     "text": [
      "10\n"
     ]
    }
   ],
   "source": [
    "# Q4. What is the purpose of the `return` statement in a Python function?\n",
    "\n",
    "# ANS- Purpose of the return Statement\n",
    "\n",
    "# - The return statement is used to exit a function and send back a value to the caller.\n",
    "\n",
    "# - Without return, the function returns None by default.\n",
    "\n",
    "# *Example:\n",
    "\n",
    "def multiply(x, y):\n",
    "    return x * y\n",
    "\n",
    "product = multiply(2, 5)\n",
    "print(product)"
   ]
  },
  {
   "cell_type": "code",
   "execution_count": null,
   "id": "03d33c40",
   "metadata": {},
   "outputs": [
    {
     "name": "stdout",
     "output_type": "stream",
     "text": [
      "1\n",
      "2\n"
     ]
    }
   ],
   "source": [
    "# Q5. What are iterators in Python and how do they differ from iterables?\n",
    "\n",
    "# ANS- Iterators vs Iterables\n",
    "\n",
    "# - An *iterable* is any object that can return its members one at a time (like lists, tuples).\n",
    "\n",
    "# - An *iterator* is an object representing a stream of data; it implements __iter__() and __next__().\n",
    "\n",
    "# *Example:\n",
    "\n",
    "my_list = [1, 2, 3]          # Iterable\n",
    "\n",
    "it = iter(my_list)           # Iterator\n",
    "print(next(it))             \n",
    "print(next(it))             \n"
   ]
  },
  {
   "cell_type": "code",
   "execution_count": null,
   "id": "fc6aa348",
   "metadata": {},
   "outputs": [
    {
     "name": "stdout",
     "output_type": "stream",
     "text": [
      "3\n",
      "2\n",
      "1\n"
     ]
    }
   ],
   "source": [
    "# Q6. Explain the concept of generators in Python and how they are defined\n",
    "\n",
    "# ANS- Generators\n",
    "\n",
    "# - Generators are special iterators defined with functions using the yield keyword.\n",
    "\n",
    "# - The yield statement returns a value and pauses execution, resuming from where it left off.\n",
    "\n",
    "# *Example:\n",
    "\n",
    "def countdown(n):\n",
    "    while n > 0:\n",
    "        yield n\n",
    "        n -= 1\n",
    "\n",
    "for num in countdown(3):\n",
    "    print(num)   "
   ]
  },
  {
   "cell_type": "code",
   "execution_count": null,
   "id": "f6b12c3a",
   "metadata": {},
   "outputs": [],
   "source": [
    "# Q7. What are the advantages of using generators over regular functions?\n",
    "\n",
    "# ANS-Generator Advantages\n",
    "\n",
    "# - Generators use less memory, compute values on demand, and are best for large data sets or infinite sequences.\n",
    "# - They do not store the entire sequence in memory.\n"
   ]
  },
  {
   "cell_type": "code",
   "execution_count": null,
   "id": "2a95a366",
   "metadata": {},
   "outputs": [
    {
     "name": "stdout",
     "output_type": "stream",
     "text": [
      "8\n"
     ]
    }
   ],
   "source": [
    "# Q8. What is a lambda function in Python and when is it typically used?\n",
    "\n",
    "# ANS- Lambda Function\n",
    "\n",
    "# - A *lambda function* is a small anonymous function. Syntax: lambda arguments: expression.\n",
    "\n",
    "# - Used when a simple function is required for short-term use, often with functions like map(), filter() and sort().\n",
    "\n",
    "# *Example:\n",
    "\n",
    "add = lambda x, y: x + y\n",
    "print(add(3, 5))  "
   ]
  },
  {
   "cell_type": "code",
   "execution_count": null,
   "id": "eea8d098",
   "metadata": {},
   "outputs": [
    {
     "name": "stdout",
     "output_type": "stream",
     "text": [
      "[1, 4, 9, 16]\n"
     ]
    }
   ],
   "source": [
    "# Q9. Explain the purpose and usage of the `map()` function in Python?\n",
    "\n",
    "# ANS- Purpose and Usage of map()\n",
    "\n",
    "# - map() applies a function to every item in an iterable and returns a map object (iterator).\n",
    "\n",
    "# - Often used for transforming data in lists, tuples, etc.\n",
    "\n",
    "# *Example:\n",
    "\n",
    "nums = [1, 2, 3, 4]\n",
    "squared = list(map(lambda x: x*x, nums))\n",
    "print(squared)\n"
   ]
  },
  {
   "cell_type": "code",
   "execution_count": null,
   "id": "f9df1273",
   "metadata": {},
   "outputs": [
    {
     "name": "stdout",
     "output_type": "stream",
     "text": [
      "[1, 4, 9, 16, 25]\n"
     ]
    }
   ],
   "source": [
    "# Q10. What is the difference between `map()`, `reduce()`, and `filter()` functions in Python?\n",
    "\n",
    "# ANS- map(), reduce(), filter() Differences\n",
    "\n",
    "# | Function | Purpose | Example | Output |\n",
    "\n",
    "#  map() -> Applies a function to all items in iterable.\n",
    "# example\n",
    "\n",
    "def square(x):\n",
    "    return x*x\n",
    "\n",
    "numbers =[1, 2, 3, 4, 5]\n",
    "result = list(map(square, numbers))\n",
    "print(result)\n"
   ]
  },
  {
   "cell_type": "code",
   "execution_count": null,
   "id": "52160969",
   "metadata": {},
   "outputs": [
    {
     "name": "stdout",
     "output_type": "stream",
     "text": [
      "[2, 4, 6, 8]\n"
     ]
    }
   ],
   "source": [
    "# filter() -> Filters items using a function returning True/False.\n",
    "\n",
    "# example\n",
    "def is_even(num):\n",
    "    return num%2 == 0\n",
    "\n",
    "numbers = [1, 2, 3, 4, 5, 6, 7, 8]\n",
    "even_numbers = list(filter(is_even, numbers))\n",
    "print(even_numbers)"
   ]
  },
  {
   "cell_type": "code",
   "execution_count": null,
   "id": "176462cb",
   "metadata": {},
   "outputs": [
    {
     "name": "stdout",
     "output_type": "stream",
     "text": [
      "36\n"
     ]
    }
   ],
   "source": [
    "# reduce()-> Applies function cumulatively to iterable.\n",
    "# example\n",
    "\n",
    "numbers = [2, 3, 6]\n",
    "product_result = reduce (lambda x, y: x * y, numbers)\n",
    "print(product_result)\n"
   ]
  },
  {
   "cell_type": "code",
   "execution_count": null,
   "id": "9ec8bf5a",
   "metadata": {},
   "outputs": [],
   "source": [
    "# Q11. Using pen & Paper write the internal mechanism for sum operation using  reduce function on this given\n",
    "# list:[47,11,42,13]? \n",
    "\n"
   ]
  },
  {
   "cell_type": "markdown",
   "id": "19171cda",
   "metadata": {},
   "source": [
    "                    PRACTICAL QUESTIONS                 "
   ]
  },
  {
   "cell_type": "code",
   "execution_count": 3,
   "id": "031d9040",
   "metadata": {},
   "outputs": [
    {
     "name": "stdout",
     "output_type": "stream",
     "text": [
      "Sum of even numbers: 12\n"
     ]
    }
   ],
   "source": [
    "# Q1. Write a Python function that takes a list of numbers as input and returns the sum of all even numbers in\n",
    "# # the list.\n",
    "def sum_even_numbers(numbers):\n",
    "    \"\"\"\n",
    "    This function takes a list of numbers and returns the sum of all even numbers.\n",
    "    \"\"\"\n",
    "    total = 0\n",
    "    for num in numbers:\n",
    "        if num % 2 == 0:  # Check if the number is even\n",
    "            total += num\n",
    "    return total\n",
    "\n",
    "# Example usage:\n",
    "my_list = [1, 2, 3, 4, 5, 6]\n",
    "result = sum_even_numbers(my_list)\n",
    "print(\"Sum of even numbers:\", result)\n"
   ]
  },
  {
   "cell_type": "code",
   "execution_count": 4,
   "id": "fb1fb259",
   "metadata": {},
   "outputs": [
    {
     "name": "stdout",
     "output_type": "stream",
     "text": [
      "Original: Hello, World!\n",
      "Reversed: !dlroW ,olleH\n"
     ]
    }
   ],
   "source": [
    "# Q2. Create a Python function that accepts a string and returns the reverse of that string.\n",
    "def reverse_string(s):\n",
    "    \"\"\"\n",
    "    This function takes a string as input and returns its reverse.\n",
    "    \"\"\"\n",
    "    return s[::-1]  # Slicing method to reverse the string\n",
    "\n",
    "# Example usage:\n",
    "input_string = \"Hello, World!\"\n",
    "reversed_string = reverse_string(input_string)\n",
    "print(\"Original:\", input_string)\n",
    "print(\"Reversed:\", reversed_string)\n"
   ]
  },
  {
   "cell_type": "code",
   "execution_count": 5,
   "id": "4ddd6341",
   "metadata": {},
   "outputs": [
    {
     "name": "stdout",
     "output_type": "stream",
     "text": [
      "Original list: [1, 2, 3, 4, 5]\n",
      "Squared list: [1, 4, 9, 16, 25]\n"
     ]
    }
   ],
   "source": [
    "# Q3. Implement a Pyt hon function that takes a list of integers and returns a new list containing the squares of\n",
    "# each number.\n",
    "def square_list(numbers):\n",
    "    \"\"\"\n",
    "    This function takes a list of integers and returns a new list\n",
    "    containing the square of each number.\n",
    "    \"\"\"\n",
    "    return [x**2 for x in numbers]  # Using list comprehension\n",
    "\n",
    "# Example usage:\n",
    "nums = [1, 2, 3, 4, 5]\n",
    "squared_nums = square_list(nums)\n",
    "print(\"Original list:\", nums)\n",
    "print(\"Squared list:\", squared_nums)\n"
   ]
  },
  {
   "cell_type": "code",
   "execution_count": 6,
   "id": "c2f04f40",
   "metadata": {},
   "outputs": [
    {
     "name": "stdout",
     "output_type": "stream",
     "text": [
      "1 is prime? False\n",
      "2 is prime? True\n",
      "3 is prime? True\n",
      "4 is prime? False\n",
      "17 is prime? True\n",
      "200 is prime? False\n"
     ]
    }
   ],
   "source": [
    "# Q4. Write a Python function that checks if a given number is prime or not from 1 to 200.\n",
    "def is_prime(n):\n",
    "    \"\"\"\n",
    "    This function checks if a number n (1 <= n <= 200) is prime.\n",
    "    Returns True if prime, False otherwise.\n",
    "    \"\"\"\n",
    "    if n < 2 or n > 200:\n",
    "        return False  # Not in valid range or less than 2\n",
    "\n",
    "    for i in range(2, int(n**0.5) + 1):\n",
    "        if n % i == 0:\n",
    "            return False  # Divisible by a number other than 1 and itself\n",
    "    return True\n",
    "\n",
    "# Example usage:\n",
    "for num in [1, 2, 3, 4, 17, 200]:\n",
    "    print(f\"{num} is prime? {is_prime(num)}\")\n"
   ]
  },
  {
   "cell_type": "code",
   "execution_count": 7,
   "id": "cf432c08",
   "metadata": {},
   "outputs": [
    {
     "name": "stdout",
     "output_type": "stream",
     "text": [
      "0 1 1 1 2 3 5 8 13 21 "
     ]
    },
    {
     "data": {
      "text/plain": [
       "1"
      ]
     },
     "execution_count": 7,
     "metadata": {},
     "output_type": "execute_result"
    }
   ],
   "source": [
    "# Q5. Create an iterator class in Python that generates the Fibonacci sequence up to a specified number of\n",
    "# terms.\n",
    "class Fibonacci:\n",
    "    def __init__(self, n_terms):\n",
    "        \"\"\"\n",
    "        Initialize the iterator with the number of terms to generate.\n",
    "        \"\"\"\n",
    "        self.n_terms = n_terms\n",
    "        self.index = 0\n",
    "        self.a, self.b = 0, 1  # First two Fibonacci numbers\n",
    "\n",
    "    def __iter__(self):\n",
    "        return self  # An iterator must return itself\n",
    "\n",
    "    def __next__(self):\n",
    "        if self.index >= self.n_terms:\n",
    "            raise StopIteration  # Stop when we reach the desired number of terms\n",
    "        if self.index == 0:\n",
    "            self.index += 1\n",
    "            return 0\n",
    "        elif self.index == 1:\n",
    "            self.index += 1\n",
    "            return 1\n",
    "        else:\n",
    "            self.a, self.b = self.b, self.a + self.b\n",
    "            self.index += 1\n",
    "            return self.a\n",
    "\n",
    "# Example usage:\n",
    "fib_sequence = Fibonacci(10)\n",
    "for num in fib_sequence:\n",
    "    print(num, end=\" \")\n",
    "1"
   ]
  },
  {
   "cell_type": "code",
   "execution_count": 8,
   "id": "43bb7c26",
   "metadata": {},
   "outputs": [
    {
     "name": "stdout",
     "output_type": "stream",
     "text": [
      "1 2 4 8 16 32 "
     ]
    }
   ],
   "source": [
    "# Q6. Write a generator function in Python that yields the powers of 2 up to a given exponent\n",
    "def powers_of_two(max_exponent):\n",
    "    \"\"\"\n",
    "    Generator that yields powers of 2 from 0 up to max_exponent.\n",
    "    \"\"\"\n",
    "    for i in range(max_exponent + 1):\n",
    "        yield 2 ** i\n",
    "\n",
    "# Example usage:\n",
    "for value in powers_of_two(5):\n",
    "    print(value, end=\" \")\n"
   ]
  },
  {
   "cell_type": "code",
   "execution_count": 21,
   "id": "9f667e5f",
   "metadata": {},
   "outputs": [],
   "source": [
    "# Q7. Implement a generator function that reads a file line by line and yields each line as a string.\n",
    "def read_file_line_by_line(file_path):\n",
    "    \"\"\"\n",
    "    Generator function to read a file line by line.\n",
    "    \n",
    "    Args:\n",
    "        file_path (str): Path to the file.\n",
    "    \n",
    "    Yields:\n",
    "        str: Each line from the file.\n",
    "    \"\"\"\n",
    "    try:\n",
    "        with open(file_path, 'r', encoding='utf-8') as file:\n",
    "            for line in file:\n",
    "                yield line.rstrip('\\n')  # Removes trailing newline characters\n",
    "    except FileNotFoundError:\n",
    "        print(f\"Error: File '{file_path}' not found.\")\n",
    "        "
   ]
  },
  {
   "cell_type": "code",
   "execution_count": 14,
   "id": "e87a565c",
   "metadata": {},
   "outputs": [
    {
     "name": "stdout",
     "output_type": "stream",
     "text": [
      "[(4, 1), (1, 2), (2, 4), (3, 5)]\n"
     ]
    }
   ],
   "source": [
    "# Q8. Use a lambda function in Python to sort a list of tuples based on the second element of each tuple.\n",
    "# Sample list of tuples\n",
    "tuples_list = [(3, 5), (1, 2), (4, 1), (2, 4)]\n",
    "\n",
    "# Sort the list based on the second element of each tuple\n",
    "sorted_list = sorted(tuples_list, key=lambda x: x[1])\n",
    "\n",
    "print(sorted_list)\n"
   ]
  },
  {
   "cell_type": "code",
   "execution_count": 15,
   "id": "e398d57a",
   "metadata": {},
   "outputs": [
    {
     "name": "stdout",
     "output_type": "stream",
     "text": [
      "Celsius: [0, 20, 37, 100]\n",
      "Fahrenheit: [32.0, 68.0, 98.6, 212.0]\n"
     ]
    }
   ],
   "source": [
    "#Q Q9. Write a Python program that uses `map()` to convert a list of temperatures from Celsius to Fahrenheit.\n",
    "# List of temperatures in Celsius\n",
    "celsius_temps = [0, 20, 37, 100]\n",
    "\n",
    "# Function to convert Celsius to Fahrenheit\n",
    "def c_to_f(c):\n",
    "    return (c * 9/5) + 32\n",
    "\n",
    "# Use map to apply the function to each element in the list\n",
    "fahrenheit_temps = list(map(c_to_f, celsius_temps))\n",
    "\n",
    "print(\"Celsius:\", celsius_temps)\n",
    "print(\"Fahrenheit:\", fahrenheit_temps)\n"
   ]
  },
  {
   "cell_type": "code",
   "execution_count": 19,
   "id": "8bcd5bec",
   "metadata": {},
   "outputs": [
    {
     "name": "stdout",
     "output_type": "stream",
     "text": [
      "String after removing vowels: chr\n"
     ]
    }
   ],
   "source": [
    "# Q10. Create a Python program that uses `filter()` to remove all the vowels from a given string.\n",
    "# Function to check if a character is not a vowel\n",
    "def is_not_vowel(char):\n",
    "    vowels = \"aeiouAEIOU\"\n",
    "    return char not in vowels\n",
    "\n",
    "# Input string from user\n",
    "input_string = input(\"Enter a string: \")\n",
    "\n",
    "# Use filter() to remove vowels\n",
    "result = ''.join(filter(is_not_vowel, input_string))\n",
    "\n",
    "# Print the result\n",
    "print(\"String after removing vowels:\", result)\n"
   ]
  },
  {
   "cell_type": "code",
   "execution_count": 2,
   "id": "56781e31",
   "metadata": {},
   "outputs": [
    {
     "name": "stdout",
     "output_type": "stream",
     "text": [
      "[(34587, 163.8), (98762, 284.0), (77226, 108.85000000000001), (88112, 84.97)]\n"
     ]
    }
   ],
   "source": [
    "# Q11) Imagine an accounting routine used in a book shop. It works on a list with sublists, which look like this:\n",
    "#         Write a Python program, which returns a list with 2-tuples. Each tuple consists of the order number and the\n",
    "# product of the price per item and the quantity. The product should be increased by 10,- € if the value of the\n",
    "# order is smaller than 100,00 €.\n",
    "\n",
    "# Write a Python program using lambda and map.\n",
    "orders = [\n",
    "    [34587, \"Learning Python, Mark Lutz\", 4, 40.95],\n",
    "    [98762, \"Programming Python, Mark Lutz\", 5, 56.80],\n",
    "    [77226, \"Head First Python, Paul Barry\", 3, 32.95],\n",
    "    [88112, \"Einführung in Python3, Bernd Klein\", 3, 24.99]\n",
    "]\n",
    "\n",
    "result = list(map(\n",
    "    lambda order: (order[0], order[2] * order[3] if order[2] * order[3] >= 100 else order[2] * order[3] + 10),\n",
    "    orders\n",
    "))\n",
    "\n",
    "print(result)"
   ]
  },
  {
   "cell_type": "code",
   "execution_count": null,
   "id": "f3c75c75",
   "metadata": {},
   "outputs": [],
   "source": []
  },
  {
   "cell_type": "code",
   "execution_count": null,
   "id": "6c935236",
   "metadata": {},
   "outputs": [],
   "source": []
  }
 ],
 "metadata": {
  "kernelspec": {
   "display_name": "Python 3",
   "language": "python",
   "name": "python3"
  },
  "language_info": {
   "codemirror_mode": {
    "name": "ipython",
    "version": 3
   },
   "file_extension": ".py",
   "mimetype": "text/x-python",
   "name": "python",
   "nbconvert_exporter": "python",
   "pygments_lexer": "ipython3",
   "version": "3.13.7"
  }
 },
 "nbformat": 4,
 "nbformat_minor": 5
}
